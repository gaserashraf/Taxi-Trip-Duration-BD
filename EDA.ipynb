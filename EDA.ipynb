{
 "cells": [
  {
   "attachments": {},
   "cell_type": "markdown",
   "metadata": {},
   "source": [
    "# Read data"
   ]
  },
  {
   "cell_type": "code",
   "execution_count": 2,
   "metadata": {},
   "outputs": [],
   "source": [
    "import matplotlib.pyplot as plt\n",
    "from matplotlib.ticker import MaxNLocator\n",
    "import numpy as np"
   ]
  },
  {
   "cell_type": "code",
   "execution_count": 3,
   "metadata": {},
   "outputs": [
    {
     "data": {
      "text/html": [
       "<div>\n",
       "<style scoped>\n",
       "    .dataframe tbody tr th:only-of-type {\n",
       "        vertical-align: middle;\n",
       "    }\n",
       "\n",
       "    .dataframe tbody tr th {\n",
       "        vertical-align: top;\n",
       "    }\n",
       "\n",
       "    .dataframe thead th {\n",
       "        text-align: right;\n",
       "    }\n",
       "</style>\n",
       "<table border=\"1\" class=\"dataframe\">\n",
       "  <thead>\n",
       "    <tr style=\"text-align: right;\">\n",
       "      <th></th>\n",
       "      <th>id</th>\n",
       "      <th>vendor_id</th>\n",
       "      <th>pickup_datetime</th>\n",
       "      <th>dropoff_datetime</th>\n",
       "      <th>passenger_count</th>\n",
       "      <th>pickup_longitude</th>\n",
       "      <th>pickup_latitude</th>\n",
       "      <th>dropoff_longitude</th>\n",
       "      <th>dropoff_latitude</th>\n",
       "      <th>store_and_fwd_flag</th>\n",
       "      <th>trip_duration</th>\n",
       "    </tr>\n",
       "  </thead>\n",
       "  <tbody>\n",
       "    <tr>\n",
       "      <th>1340047</th>\n",
       "      <td>id1614300</td>\n",
       "      <td>1</td>\n",
       "      <td>2016-06-28 16:34:17</td>\n",
       "      <td>2016-06-28 16:44:18</td>\n",
       "      <td>1</td>\n",
       "      <td>-73.981758</td>\n",
       "      <td>40.728512</td>\n",
       "      <td>-73.994804</td>\n",
       "      <td>40.716438</td>\n",
       "      <td>N</td>\n",
       "      <td>601</td>\n",
       "    </tr>\n",
       "    <tr>\n",
       "      <th>3393</th>\n",
       "      <td>id2798929</td>\n",
       "      <td>1</td>\n",
       "      <td>2016-06-12 11:57:33</td>\n",
       "      <td>2016-06-12 12:09:23</td>\n",
       "      <td>1</td>\n",
       "      <td>-74.015984</td>\n",
       "      <td>40.705093</td>\n",
       "      <td>-74.004967</td>\n",
       "      <td>40.733894</td>\n",
       "      <td>N</td>\n",
       "      <td>710</td>\n",
       "    </tr>\n",
       "    <tr>\n",
       "      <th>1312137</th>\n",
       "      <td>id2966203</td>\n",
       "      <td>2</td>\n",
       "      <td>2016-01-06 22:52:34</td>\n",
       "      <td>2016-01-06 23:00:48</td>\n",
       "      <td>1</td>\n",
       "      <td>-73.985130</td>\n",
       "      <td>40.742065</td>\n",
       "      <td>-73.991486</td>\n",
       "      <td>40.755291</td>\n",
       "      <td>N</td>\n",
       "      <td>494</td>\n",
       "    </tr>\n",
       "    <tr>\n",
       "      <th>445451</th>\n",
       "      <td>id2685412</td>\n",
       "      <td>1</td>\n",
       "      <td>2016-06-14 23:33:56</td>\n",
       "      <td>2016-06-14 23:37:03</td>\n",
       "      <td>1</td>\n",
       "      <td>-73.955444</td>\n",
       "      <td>40.773479</td>\n",
       "      <td>-73.953575</td>\n",
       "      <td>40.767273</td>\n",
       "      <td>N</td>\n",
       "      <td>187</td>\n",
       "    </tr>\n",
       "    <tr>\n",
       "      <th>608021</th>\n",
       "      <td>id3317305</td>\n",
       "      <td>2</td>\n",
       "      <td>2016-03-06 17:02:12</td>\n",
       "      <td>2016-03-06 17:34:59</td>\n",
       "      <td>1</td>\n",
       "      <td>-73.870903</td>\n",
       "      <td>40.773788</td>\n",
       "      <td>-73.983902</td>\n",
       "      <td>40.676319</td>\n",
       "      <td>N</td>\n",
       "      <td>1967</td>\n",
       "    </tr>\n",
       "    <tr>\n",
       "      <th>168782</th>\n",
       "      <td>id3142130</td>\n",
       "      <td>1</td>\n",
       "      <td>2016-06-13 05:50:10</td>\n",
       "      <td>2016-06-13 05:57:08</td>\n",
       "      <td>1</td>\n",
       "      <td>-73.967255</td>\n",
       "      <td>40.793434</td>\n",
       "      <td>-73.982315</td>\n",
       "      <td>40.769337</td>\n",
       "      <td>N</td>\n",
       "      <td>418</td>\n",
       "    </tr>\n",
       "    <tr>\n",
       "      <th>597403</th>\n",
       "      <td>id2639590</td>\n",
       "      <td>2</td>\n",
       "      <td>2016-06-23 14:15:07</td>\n",
       "      <td>2016-06-23 14:34:44</td>\n",
       "      <td>1</td>\n",
       "      <td>-73.959953</td>\n",
       "      <td>40.760441</td>\n",
       "      <td>-73.976273</td>\n",
       "      <td>40.751789</td>\n",
       "      <td>N</td>\n",
       "      <td>1177</td>\n",
       "    </tr>\n",
       "    <tr>\n",
       "      <th>410651</th>\n",
       "      <td>id3765202</td>\n",
       "      <td>1</td>\n",
       "      <td>2016-05-04 10:49:54</td>\n",
       "      <td>2016-05-04 11:10:34</td>\n",
       "      <td>1</td>\n",
       "      <td>-74.008163</td>\n",
       "      <td>40.738953</td>\n",
       "      <td>-73.995140</td>\n",
       "      <td>40.756153</td>\n",
       "      <td>N</td>\n",
       "      <td>1240</td>\n",
       "    </tr>\n",
       "    <tr>\n",
       "      <th>912287</th>\n",
       "      <td>id2592955</td>\n",
       "      <td>2</td>\n",
       "      <td>2016-02-15 09:20:26</td>\n",
       "      <td>2016-02-15 09:25:23</td>\n",
       "      <td>1</td>\n",
       "      <td>-73.990334</td>\n",
       "      <td>40.756138</td>\n",
       "      <td>-74.000481</td>\n",
       "      <td>40.760338</td>\n",
       "      <td>N</td>\n",
       "      <td>297</td>\n",
       "    </tr>\n",
       "    <tr>\n",
       "      <th>201672</th>\n",
       "      <td>id1514099</td>\n",
       "      <td>2</td>\n",
       "      <td>2016-05-09 07:01:14</td>\n",
       "      <td>2016-05-09 07:14:09</td>\n",
       "      <td>1</td>\n",
       "      <td>-74.012810</td>\n",
       "      <td>40.715851</td>\n",
       "      <td>-73.979019</td>\n",
       "      <td>40.753971</td>\n",
       "      <td>N</td>\n",
       "      <td>775</td>\n",
       "    </tr>\n",
       "  </tbody>\n",
       "</table>\n",
       "</div>"
      ],
      "text/plain": [
       "                id  vendor_id      pickup_datetime     dropoff_datetime  \\\n",
       "1340047  id1614300          1  2016-06-28 16:34:17  2016-06-28 16:44:18   \n",
       "3393     id2798929          1  2016-06-12 11:57:33  2016-06-12 12:09:23   \n",
       "1312137  id2966203          2  2016-01-06 22:52:34  2016-01-06 23:00:48   \n",
       "445451   id2685412          1  2016-06-14 23:33:56  2016-06-14 23:37:03   \n",
       "608021   id3317305          2  2016-03-06 17:02:12  2016-03-06 17:34:59   \n",
       "168782   id3142130          1  2016-06-13 05:50:10  2016-06-13 05:57:08   \n",
       "597403   id2639590          2  2016-06-23 14:15:07  2016-06-23 14:34:44   \n",
       "410651   id3765202          1  2016-05-04 10:49:54  2016-05-04 11:10:34   \n",
       "912287   id2592955          2  2016-02-15 09:20:26  2016-02-15 09:25:23   \n",
       "201672   id1514099          2  2016-05-09 07:01:14  2016-05-09 07:14:09   \n",
       "\n",
       "         passenger_count  pickup_longitude  pickup_latitude  \\\n",
       "1340047                1        -73.981758        40.728512   \n",
       "3393                   1        -74.015984        40.705093   \n",
       "1312137                1        -73.985130        40.742065   \n",
       "445451                 1        -73.955444        40.773479   \n",
       "608021                 1        -73.870903        40.773788   \n",
       "168782                 1        -73.967255        40.793434   \n",
       "597403                 1        -73.959953        40.760441   \n",
       "410651                 1        -74.008163        40.738953   \n",
       "912287                 1        -73.990334        40.756138   \n",
       "201672                 1        -74.012810        40.715851   \n",
       "\n",
       "         dropoff_longitude  dropoff_latitude store_and_fwd_flag  trip_duration  \n",
       "1340047         -73.994804         40.716438                  N            601  \n",
       "3393            -74.004967         40.733894                  N            710  \n",
       "1312137         -73.991486         40.755291                  N            494  \n",
       "445451          -73.953575         40.767273                  N            187  \n",
       "608021          -73.983902         40.676319                  N           1967  \n",
       "168782          -73.982315         40.769337                  N            418  \n",
       "597403          -73.976273         40.751789                  N           1177  \n",
       "410651          -73.995140         40.756153                  N           1240  \n",
       "912287          -74.000481         40.760338                  N            297  \n",
       "201672          -73.979019         40.753971                  N            775  "
      ]
     },
     "execution_count": 3,
     "metadata": {},
     "output_type": "execute_result"
    }
   ],
   "source": [
    "# read train.csv\n",
    "train_df = pd.read_csv(\"dataset/train.csv\")\n",
    "train_df.sample(10)"
   ]
  },
  {
   "cell_type": "code",
   "execution_count": 4,
   "metadata": {},
   "outputs": [
    {
     "data": {
      "text/plain": [
       "id                     object\n",
       "vendor_id               int64\n",
       "pickup_datetime        object\n",
       "dropoff_datetime       object\n",
       "passenger_count         int64\n",
       "pickup_longitude      float64\n",
       "pickup_latitude       float64\n",
       "dropoff_longitude     float64\n",
       "dropoff_latitude      float64\n",
       "store_and_fwd_flag     object\n",
       "trip_duration           int64\n",
       "dtype: object"
      ]
     },
     "execution_count": 4,
     "metadata": {},
     "output_type": "execute_result"
    }
   ],
   "source": [
    "# explore train.csv\n",
    "train_df.dtypes"
   ]
  },
  {
   "attachments": {},
   "cell_type": "markdown",
   "metadata": {},
   "source": [
    "# preprocessing data"
   ]
  },
  {
   "cell_type": "code",
   "execution_count": 5,
   "metadata": {},
   "outputs": [],
   "source": [
    "def preprocessing(data_df):\n",
    "    # remove any rows with missing data\n",
    "    data_df = data_df.dropna()\n",
    "\n",
    "    # convert pickup and dropoff datetime to datetime format\n",
    "    data_df['pickup_datetime'] = pd.to_datetime(data_df['pickup_datetime'])\n",
    "    data_df['dropoff_datetime'] = pd.to_datetime(data_df['dropoff_datetime'])\n",
    "\n",
    "    # split datetime into month, day, week and hour\n",
    "    data_df['day'] = data_df['pickup_datetime'].dt.day\n",
    "    data_df['hour'] = data_df['pickup_datetime'].dt.hour\n",
    "    data_df['month'] = data_df['pickup_datetime'].dt.month\n",
    "    data_df['week'] = data_df['pickup_datetime'].dt.dayofweek\n",
    "    return data_df\n"
   ]
  },
  {
   "cell_type": "code",
   "execution_count": 6,
   "metadata": {},
   "outputs": [
    {
     "data": {
      "text/html": [
       "<div>\n",
       "<style scoped>\n",
       "    .dataframe tbody tr th:only-of-type {\n",
       "        vertical-align: middle;\n",
       "    }\n",
       "\n",
       "    .dataframe tbody tr th {\n",
       "        vertical-align: top;\n",
       "    }\n",
       "\n",
       "    .dataframe thead th {\n",
       "        text-align: right;\n",
       "    }\n",
       "</style>\n",
       "<table border=\"1\" class=\"dataframe\">\n",
       "  <thead>\n",
       "    <tr style=\"text-align: right;\">\n",
       "      <th></th>\n",
       "      <th>id</th>\n",
       "      <th>vendor_id</th>\n",
       "      <th>pickup_datetime</th>\n",
       "      <th>dropoff_datetime</th>\n",
       "      <th>passenger_count</th>\n",
       "      <th>pickup_longitude</th>\n",
       "      <th>pickup_latitude</th>\n",
       "      <th>dropoff_longitude</th>\n",
       "      <th>dropoff_latitude</th>\n",
       "      <th>store_and_fwd_flag</th>\n",
       "      <th>trip_duration</th>\n",
       "      <th>day</th>\n",
       "      <th>hour</th>\n",
       "      <th>month</th>\n",
       "      <th>week</th>\n",
       "    </tr>\n",
       "  </thead>\n",
       "  <tbody>\n",
       "    <tr>\n",
       "      <th>881528</th>\n",
       "      <td>id1653852</td>\n",
       "      <td>2</td>\n",
       "      <td>2016-05-30 01:18:34</td>\n",
       "      <td>2016-05-30 01:25:34</td>\n",
       "      <td>1</td>\n",
       "      <td>-74.002022</td>\n",
       "      <td>40.726357</td>\n",
       "      <td>-74.007584</td>\n",
       "      <td>40.740887</td>\n",
       "      <td>N</td>\n",
       "      <td>420</td>\n",
       "      <td>30</td>\n",
       "      <td>1</td>\n",
       "      <td>5</td>\n",
       "      <td>0</td>\n",
       "    </tr>\n",
       "    <tr>\n",
       "      <th>1071105</th>\n",
       "      <td>id1250284</td>\n",
       "      <td>2</td>\n",
       "      <td>2016-01-12 14:48:15</td>\n",
       "      <td>2016-01-12 15:06:04</td>\n",
       "      <td>1</td>\n",
       "      <td>-73.991951</td>\n",
       "      <td>40.738209</td>\n",
       "      <td>-73.978683</td>\n",
       "      <td>40.759140</td>\n",
       "      <td>N</td>\n",
       "      <td>1069</td>\n",
       "      <td>12</td>\n",
       "      <td>14</td>\n",
       "      <td>1</td>\n",
       "      <td>1</td>\n",
       "    </tr>\n",
       "    <tr>\n",
       "      <th>285394</th>\n",
       "      <td>id3230978</td>\n",
       "      <td>2</td>\n",
       "      <td>2016-05-11 07:53:37</td>\n",
       "      <td>2016-05-11 08:06:14</td>\n",
       "      <td>4</td>\n",
       "      <td>-73.946159</td>\n",
       "      <td>40.775509</td>\n",
       "      <td>-73.960892</td>\n",
       "      <td>40.772259</td>\n",
       "      <td>N</td>\n",
       "      <td>757</td>\n",
       "      <td>11</td>\n",
       "      <td>7</td>\n",
       "      <td>5</td>\n",
       "      <td>2</td>\n",
       "    </tr>\n",
       "    <tr>\n",
       "      <th>756719</th>\n",
       "      <td>id0145885</td>\n",
       "      <td>2</td>\n",
       "      <td>2016-03-25 14:16:15</td>\n",
       "      <td>2016-03-25 14:21:20</td>\n",
       "      <td>2</td>\n",
       "      <td>-73.960167</td>\n",
       "      <td>40.766430</td>\n",
       "      <td>-73.965500</td>\n",
       "      <td>40.771019</td>\n",
       "      <td>N</td>\n",
       "      <td>305</td>\n",
       "      <td>25</td>\n",
       "      <td>14</td>\n",
       "      <td>3</td>\n",
       "      <td>4</td>\n",
       "    </tr>\n",
       "    <tr>\n",
       "      <th>1297203</th>\n",
       "      <td>id2820325</td>\n",
       "      <td>1</td>\n",
       "      <td>2016-06-15 18:57:39</td>\n",
       "      <td>2016-06-15 19:17:40</td>\n",
       "      <td>1</td>\n",
       "      <td>-74.026291</td>\n",
       "      <td>40.640099</td>\n",
       "      <td>-74.026291</td>\n",
       "      <td>40.640099</td>\n",
       "      <td>N</td>\n",
       "      <td>1201</td>\n",
       "      <td>15</td>\n",
       "      <td>18</td>\n",
       "      <td>6</td>\n",
       "      <td>2</td>\n",
       "    </tr>\n",
       "    <tr>\n",
       "      <th>1109645</th>\n",
       "      <td>id0385541</td>\n",
       "      <td>2</td>\n",
       "      <td>2016-02-21 14:14:17</td>\n",
       "      <td>2016-02-21 14:26:22</td>\n",
       "      <td>1</td>\n",
       "      <td>-73.884163</td>\n",
       "      <td>40.867882</td>\n",
       "      <td>-73.844162</td>\n",
       "      <td>40.857311</td>\n",
       "      <td>N</td>\n",
       "      <td>725</td>\n",
       "      <td>21</td>\n",
       "      <td>14</td>\n",
       "      <td>2</td>\n",
       "      <td>6</td>\n",
       "    </tr>\n",
       "    <tr>\n",
       "      <th>1454541</th>\n",
       "      <td>id0137285</td>\n",
       "      <td>2</td>\n",
       "      <td>2016-01-14 13:02:41</td>\n",
       "      <td>2016-01-14 13:29:43</td>\n",
       "      <td>5</td>\n",
       "      <td>-73.982689</td>\n",
       "      <td>40.745045</td>\n",
       "      <td>-73.953346</td>\n",
       "      <td>40.786903</td>\n",
       "      <td>N</td>\n",
       "      <td>1622</td>\n",
       "      <td>14</td>\n",
       "      <td>13</td>\n",
       "      <td>1</td>\n",
       "      <td>3</td>\n",
       "    </tr>\n",
       "    <tr>\n",
       "      <th>683041</th>\n",
       "      <td>id1362282</td>\n",
       "      <td>1</td>\n",
       "      <td>2016-04-10 12:58:40</td>\n",
       "      <td>2016-04-10 13:07:21</td>\n",
       "      <td>1</td>\n",
       "      <td>-73.954445</td>\n",
       "      <td>40.784119</td>\n",
       "      <td>-73.972511</td>\n",
       "      <td>40.792595</td>\n",
       "      <td>N</td>\n",
       "      <td>521</td>\n",
       "      <td>10</td>\n",
       "      <td>12</td>\n",
       "      <td>4</td>\n",
       "      <td>6</td>\n",
       "    </tr>\n",
       "    <tr>\n",
       "      <th>1205799</th>\n",
       "      <td>id0512414</td>\n",
       "      <td>2</td>\n",
       "      <td>2016-02-19 19:49:07</td>\n",
       "      <td>2016-02-19 20:01:37</td>\n",
       "      <td>5</td>\n",
       "      <td>-73.978958</td>\n",
       "      <td>40.764126</td>\n",
       "      <td>-73.962677</td>\n",
       "      <td>40.794247</td>\n",
       "      <td>N</td>\n",
       "      <td>750</td>\n",
       "      <td>19</td>\n",
       "      <td>19</td>\n",
       "      <td>2</td>\n",
       "      <td>4</td>\n",
       "    </tr>\n",
       "    <tr>\n",
       "      <th>974340</th>\n",
       "      <td>id3683126</td>\n",
       "      <td>1</td>\n",
       "      <td>2016-05-26 12:33:02</td>\n",
       "      <td>2016-05-26 12:44:29</td>\n",
       "      <td>1</td>\n",
       "      <td>-73.988831</td>\n",
       "      <td>40.774090</td>\n",
       "      <td>-73.993484</td>\n",
       "      <td>40.755470</td>\n",
       "      <td>N</td>\n",
       "      <td>687</td>\n",
       "      <td>26</td>\n",
       "      <td>12</td>\n",
       "      <td>5</td>\n",
       "      <td>3</td>\n",
       "    </tr>\n",
       "  </tbody>\n",
       "</table>\n",
       "</div>"
      ],
      "text/plain": [
       "                id  vendor_id     pickup_datetime    dropoff_datetime  \\\n",
       "881528   id1653852          2 2016-05-30 01:18:34 2016-05-30 01:25:34   \n",
       "1071105  id1250284          2 2016-01-12 14:48:15 2016-01-12 15:06:04   \n",
       "285394   id3230978          2 2016-05-11 07:53:37 2016-05-11 08:06:14   \n",
       "756719   id0145885          2 2016-03-25 14:16:15 2016-03-25 14:21:20   \n",
       "1297203  id2820325          1 2016-06-15 18:57:39 2016-06-15 19:17:40   \n",
       "1109645  id0385541          2 2016-02-21 14:14:17 2016-02-21 14:26:22   \n",
       "1454541  id0137285          2 2016-01-14 13:02:41 2016-01-14 13:29:43   \n",
       "683041   id1362282          1 2016-04-10 12:58:40 2016-04-10 13:07:21   \n",
       "1205799  id0512414          2 2016-02-19 19:49:07 2016-02-19 20:01:37   \n",
       "974340   id3683126          1 2016-05-26 12:33:02 2016-05-26 12:44:29   \n",
       "\n",
       "         passenger_count  pickup_longitude  pickup_latitude  \\\n",
       "881528                 1        -74.002022        40.726357   \n",
       "1071105                1        -73.991951        40.738209   \n",
       "285394                 4        -73.946159        40.775509   \n",
       "756719                 2        -73.960167        40.766430   \n",
       "1297203                1        -74.026291        40.640099   \n",
       "1109645                1        -73.884163        40.867882   \n",
       "1454541                5        -73.982689        40.745045   \n",
       "683041                 1        -73.954445        40.784119   \n",
       "1205799                5        -73.978958        40.764126   \n",
       "974340                 1        -73.988831        40.774090   \n",
       "\n",
       "         dropoff_longitude  dropoff_latitude store_and_fwd_flag  \\\n",
       "881528          -74.007584         40.740887                  N   \n",
       "1071105         -73.978683         40.759140                  N   \n",
       "285394          -73.960892         40.772259                  N   \n",
       "756719          -73.965500         40.771019                  N   \n",
       "1297203         -74.026291         40.640099                  N   \n",
       "1109645         -73.844162         40.857311                  N   \n",
       "1454541         -73.953346         40.786903                  N   \n",
       "683041          -73.972511         40.792595                  N   \n",
       "1205799         -73.962677         40.794247                  N   \n",
       "974340          -73.993484         40.755470                  N   \n",
       "\n",
       "         trip_duration  day  hour  month  week  \n",
       "881528             420   30     1      5     0  \n",
       "1071105           1069   12    14      1     1  \n",
       "285394             757   11     7      5     2  \n",
       "756719             305   25    14      3     4  \n",
       "1297203           1201   15    18      6     2  \n",
       "1109645            725   21    14      2     6  \n",
       "1454541           1622   14    13      1     3  \n",
       "683041             521   10    12      4     6  \n",
       "1205799            750   19    19      2     4  \n",
       "974340             687   26    12      5     3  "
      ]
     },
     "execution_count": 6,
     "metadata": {},
     "output_type": "execute_result"
    }
   ],
   "source": [
    "train_df = preprocessing(train_df)\n",
    "train_df.sample(10)"
   ]
  },
  {
   "attachments": {},
   "cell_type": "markdown",
   "metadata": {},
   "source": [
    "# data Analysis & visualization "
   ]
  },
  {
   "cell_type": "code",
   "execution_count": 7,
   "metadata": {},
   "outputs": [],
   "source": [
    "\n",
    "\n",
    "def categorical_histogram(data, column):\n",
    "    categories = data[column].unique()\n",
    "    num_categories = len(categories)\n",
    "    colors = plt.cm.tab10(np.linspace(0, 1, num_categories))\n",
    "    \n",
    "    plt.figure(figsize=(10, 6))\n",
    "    data[column].value_counts().plot(kind='bar', color=colors)\n",
    "    plt.xlabel(column)\n",
    "    plt.ylabel('Count')\n",
    "    plt.title('Histogram of '+column)\n",
    "    plt.show()\n",
    "\n",
    "\n",
    "\n",
    "def numerical_histogram(data, column):\n",
    "    plt.figure(figsize=(10, 6))\n",
    "    plt.hist(data[column].values, bins=50)\n",
    "    plt.xlabel(column)\n",
    "    plt.ylabel('Frequency')\n",
    "    plt.title('Histogram of ' + column)\n",
    "    \n",
    "    # Set the x-axis tick locator to display integers\n",
    "    plt.gca().xaxis.set_major_locator(MaxNLocator(integer=True))\n",
    "    \n",
    "    plt.show()\n"
   ]
  },
  {
   "attachments": {},
   "cell_type": "markdown",
   "metadata": {},
   "source": [
    "## vendor_id"
   ]
  },
  {
   "cell_type": "code",
   "execution_count": 8,
   "metadata": {},
   "outputs": [
    {
     "data": {
      "image/png": "[encoded data removed]",
      "text/plain": [
       "<Figure size 720x432 with 1 Axes>"
      ]
     },
     "metadata": {
      "needs_background": "light"
     },
     "output_type": "display_data"
    }
   ],
   "source": [
    "# plot histogram of vendor_id\n",
    "categorical_histogram(train_df, \"vendor_id\")"
   ]
  },
  {
   "attachments": {},
   "cell_type": "markdown",
   "metadata": {},
   "source": [
    "* there are only two vendor_id in the data set, 1 and 2\n",
    "* vendor_id 2 has more trips than vendor_id 1"
   ]
  },
  {
   "attachments": {},
   "cell_type": "markdown",
   "metadata": {},
   "source": [
    "## passenger_count"
   ]
  },
  {
   "cell_type": "code",
   "execution_count": 9,
   "metadata": {},
   "outputs": [
    {
     "data": {
      "image/png": "[encoded data removed]",
      "text/plain": [
       "<Figure size 720x432 with 1 Axes>"
      ]
     },
     "metadata": {
      "needs_background": "light"
     },
     "output_type": "display_data"
    }
   ],
   "source": [
    "categorical_histogram(train_df, \"passenger_count\")"
   ]
  },
  {
   "attachments": {},
   "cell_type": "markdown",
   "metadata": {},
   "source": [
    "* Most of the trips have 1 or 2 passengers"
   ]
  },
  {
   "attachments": {},
   "cell_type": "markdown",
   "metadata": {},
   "source": [
    "## pickup day and pickup month"
   ]
  },
  {
   "cell_type": "code",
   "execution_count": 10,
   "metadata": {},
   "outputs": [
    {
     "data": {
      "image/png": "[encoded data removed]",
      "text/plain": [
       "<Figure size 720x432 with 1 Axes>"
      ]
     },
     "metadata": {
      "needs_background": "light"
     },
     "output_type": "display_data"
    }
   ],
   "source": [
    "categorical_histogram(train_df, \"day\")"
   ]
  },
  {
   "cell_type": "code",
   "execution_count": 11,
   "metadata": {},
   "outputs": [
    {
     "data": {
      "image/png": "[encoded data removed]",
      "text/plain": [
       "<Figure size 720x432 with 1 Axes>"
      ]
     },
     "metadata": {
      "needs_background": "light"
     },
     "output_type": "display_data"
    }
   ],
   "source": [
    "categorical_histogram(train_df, \"month\")"
   ]
  },
  {
   "attachments": {},
   "cell_type": "markdown",
   "metadata": {},
   "source": [
    "## pickup hour"
   ]
  },
  {
   "cell_type": "code",
   "execution_count": 12,
   "metadata": {},
   "outputs": [
    {
     "data": {
      "image/png": "[encoded data removed]",
      "text/plain": [
       "<Figure size 720x432 with 1 Axes>"
      ]
     },
     "metadata": {
      "needs_background": "light"
     },
     "output_type": "display_data"
    }
   ],
   "source": [
    "categorical_histogram(train_df, \"hour\")"
   ]
  },
  {
   "attachments": {},
   "cell_type": "markdown",
   "metadata": {},
   "source": [
    "* most hours of the day are 6,7 PM"
   ]
  },
  {
   "attachments": {},
   "cell_type": "markdown",
   "metadata": {},
   "source": [
    "## store_and_fwd_flag"
   ]
  },
  {
   "cell_type": "code",
   "execution_count": 13,
   "metadata": {},
   "outputs": [
    {
     "data": {
      "image/png": "[encoded data removed]",
      "text/plain": [
       "<Figure size 720x432 with 1 Axes>"
      ]
     },
     "metadata": {
      "needs_background": "light"
     },
     "output_type": "display_data"
    },
    {
     "data": {
      "text/plain": [
       "N    1450599\n",
       "Y       8045\n",
       "Name: store_and_fwd_flag, dtype: int64"
      ]
     },
     "execution_count": 13,
     "metadata": {},
     "output_type": "execute_result"
    }
   ],
   "source": [
    "categorical_histogram(train_df, \"store_and_fwd_flag\")\n",
    "train_df['store_and_fwd_flag'].value_counts()"
   ]
  },
  {
   "attachments": {},
   "cell_type": "markdown",
   "metadata": {},
   "source": [
    "* most of the trips are not stored and forwarded In other words, there was a direct connection between the vehicle and the server, allowing the trip data to be sent without the need for temporary storage."
   ]
  },
  {
   "attachments": {},
   "cell_type": "markdown",
   "metadata": {},
   "source": [
    "## trip_duration"
   ]
  },
  {
   "cell_type": "code",
   "execution_count": 14,
   "metadata": {},
   "outputs": [
    {
     "data": {
      "image/png": "[encoded data removed]",
      "text/plain": [
       "<Figure size 720x432 with 1 Axes>"
      ]
     },
     "metadata": {
      "needs_background": "light"
     },
     "output_type": "display_data"
    }
   ],
   "source": [
    "numerical_histogram(train_df, \"trip_duration\")"
   ]
  },
  {
   "attachments": {},
   "cell_type": "markdown",
   "metadata": {},
   "source": [
    "## correlation between trip_duration and other features"
   ]
  },
  {
   "cell_type": "code",
   "execution_count": 15,
   "metadata": {},
   "outputs": [],
   "source": [
    "def plotCorrelation(train_df,col1,col2):\n",
    "    plt.figure(figsize=(10, 6))\n",
    "    plt.scatter(train_df[col1], train_df[col2])\n",
    "    plt.xlabel(col1)\n",
    "    plt.ylabel(col2)\n",
    "    plt.title('Scatter plot of '+col1+' vs '+col2)\n",
    "    plt.show()"
   ]
  },
  {
   "cell_type": "code",
   "execution_count": 16,
   "metadata": {},
   "outputs": [
    {
     "name": "stderr",
     "output_type": "stream",
     "text": [
      "C:\\Users\\Lenovo\\AppData\\Local\\Temp/ipykernel_7164/3367316845.py:2: FutureWarning: The default value of numeric_only in DataFrame.corr is deprecated. In a future version, it will default to False. Select only valid columns or specify the value of numeric_only to silence this warning.\n",
      "  corr_matrix = train_df.corr()\n"
     ]
    },
    {
     "data": {
      "text/plain": [
       "trip_duration        1.000000\n",
       "pickup_longitude     0.026542\n",
       "vendor_id            0.020304\n",
       "dropoff_longitude    0.014678\n",
       "passenger_count      0.008471\n",
       "month                0.006607\n",
       "hour                 0.003690\n",
       "day                  0.000566\n",
       "week                -0.000708\n",
       "dropoff_latitude    -0.020677\n",
       "pickup_latitude     -0.029204\n",
       "Name: trip_duration, dtype: float64"
      ]
     },
     "execution_count": 16,
     "metadata": {},
     "output_type": "execute_result"
    }
   ],
   "source": [
    "# correlation matrix\n",
    "corr_matrix = train_df.corr()\n",
    "corr_matrix[\"trip_duration\"].sort_values(ascending=False)"
   ]
  },
  {
   "cell_type": "code",
   "execution_count": 17,
   "metadata": {},
   "outputs": [
    {
     "data": {
      "image/png": "[encoded data removed]",
      "text/plain": [
       "<Figure size 1080x1080 with 2 Axes>"
      ]
     },
     "metadata": {
      "needs_background": "light"
     },
     "output_type": "display_data"
    }
   ],
   "source": [
    "import seaborn as sns\n",
    "plt.figure(figsize=(15, 15))\n",
    "sns.heatmap(np.abs(np.round(corr_matrix, 2)), square=True, annot=True, cmap=plt.cm.Blues)\n",
    "plt.show()"
   ]
  }
 ],
 "metadata": {
  "kernelspec": {
   "display_name": "Python 3",
   "language": "python",
   "name": "python3"
  },
  "language_info": {
   "codemirror_mode": {
    "name": "ipython",
    "version": 3
   },
   "file_extension": ".py",
   "mimetype": "text/x-python",
   "name": "python",
   "nbconvert_exporter": "python",
   "pygments_lexer": "ipython3",
   "version": "3.8.3"
  },
  "orig_nbformat": 4
 },
 "nbformat": 4,
 "nbformat_minor": 2
}
