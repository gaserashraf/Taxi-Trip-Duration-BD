{
 "cells": [
  {
   "attachments": {},
   "cell_type": "markdown",
   "metadata": {},
   "source": [
    "# Read data"
   ]
  },
  {
   "cell_type": "code",
   "execution_count": 4,
   "metadata": {},
   "outputs": [],
   "source": [
    "import matplotlib.pyplot as plt\n",
    "from matplotlib.ticker import MaxNLocator\n",
    "import numpy as np\n",
    "import pandas as pd"
   ]
  },
  {
   "cell_type": "code",
   "execution_count": 5,
   "metadata": {},
   "outputs": [
    {
     "data": {
      "text/html": [
       "<div>\n",
       "<style scoped>\n",
       "    .dataframe tbody tr th:only-of-type {\n",
       "        vertical-align: middle;\n",
       "    }\n",
       "\n",
       "    .dataframe tbody tr th {\n",
       "        vertical-align: top;\n",
       "    }\n",
       "\n",
       "    .dataframe thead th {\n",
       "        text-align: right;\n",
       "    }\n",
       "</style>\n",
       "<table border=\"1\" class=\"dataframe\">\n",
       "  <thead>\n",
       "    <tr style=\"text-align: right;\">\n",
       "      <th></th>\n",
       "      <th>id</th>\n",
       "      <th>vendor_id</th>\n",
       "      <th>pickup_datetime</th>\n",
       "      <th>dropoff_datetime</th>\n",
       "      <th>passenger_count</th>\n",
       "      <th>pickup_longitude</th>\n",
       "      <th>pickup_latitude</th>\n",
       "      <th>dropoff_longitude</th>\n",
       "      <th>dropoff_latitude</th>\n",
       "      <th>store_and_fwd_flag</th>\n",
       "      <th>trip_duration</th>\n",
       "    </tr>\n",
       "  </thead>\n",
       "  <tbody>\n",
       "    <tr>\n",
       "      <th>1052495</th>\n",
       "      <td>id0514403</td>\n",
       "      <td>1</td>\n",
       "      <td>2016-04-12 22:53:33</td>\n",
       "      <td>2016-04-12 22:58:25</td>\n",
       "      <td>1</td>\n",
       "      <td>-73.984894</td>\n",
       "      <td>40.744171</td>\n",
       "      <td>-73.985802</td>\n",
       "      <td>40.750736</td>\n",
       "      <td>N</td>\n",
       "      <td>292</td>\n",
       "    </tr>\n",
       "    <tr>\n",
       "      <th>200072</th>\n",
       "      <td>id2095083</td>\n",
       "      <td>1</td>\n",
       "      <td>2016-02-25 12:50:38</td>\n",
       "      <td>2016-02-25 12:53:37</td>\n",
       "      <td>1</td>\n",
       "      <td>-73.969398</td>\n",
       "      <td>40.798367</td>\n",
       "      <td>-73.971718</td>\n",
       "      <td>40.795002</td>\n",
       "      <td>N</td>\n",
       "      <td>179</td>\n",
       "    </tr>\n",
       "    <tr>\n",
       "      <th>1344869</th>\n",
       "      <td>id1480492</td>\n",
       "      <td>2</td>\n",
       "      <td>2016-02-17 10:49:25</td>\n",
       "      <td>2016-02-17 10:56:55</td>\n",
       "      <td>1</td>\n",
       "      <td>-73.988144</td>\n",
       "      <td>40.735374</td>\n",
       "      <td>-73.978333</td>\n",
       "      <td>40.745483</td>\n",
       "      <td>N</td>\n",
       "      <td>450</td>\n",
       "    </tr>\n",
       "    <tr>\n",
       "      <th>160357</th>\n",
       "      <td>id2729577</td>\n",
       "      <td>2</td>\n",
       "      <td>2016-03-22 17:10:27</td>\n",
       "      <td>2016-03-22 17:26:57</td>\n",
       "      <td>1</td>\n",
       "      <td>-73.989189</td>\n",
       "      <td>40.718971</td>\n",
       "      <td>-74.009666</td>\n",
       "      <td>40.720814</td>\n",
       "      <td>N</td>\n",
       "      <td>990</td>\n",
       "    </tr>\n",
       "    <tr>\n",
       "      <th>866634</th>\n",
       "      <td>id2943767</td>\n",
       "      <td>1</td>\n",
       "      <td>2016-03-30 17:37:28</td>\n",
       "      <td>2016-03-30 18:39:03</td>\n",
       "      <td>2</td>\n",
       "      <td>-73.781921</td>\n",
       "      <td>40.644596</td>\n",
       "      <td>-73.901199</td>\n",
       "      <td>40.850624</td>\n",
       "      <td>N</td>\n",
       "      <td>3695</td>\n",
       "    </tr>\n",
       "    <tr>\n",
       "      <th>823177</th>\n",
       "      <td>id2563839</td>\n",
       "      <td>1</td>\n",
       "      <td>2016-01-03 17:34:19</td>\n",
       "      <td>2016-01-03 17:40:31</td>\n",
       "      <td>2</td>\n",
       "      <td>-73.954575</td>\n",
       "      <td>40.777920</td>\n",
       "      <td>-73.948509</td>\n",
       "      <td>40.774117</td>\n",
       "      <td>N</td>\n",
       "      <td>372</td>\n",
       "    </tr>\n",
       "    <tr>\n",
       "      <th>176319</th>\n",
       "      <td>id0668739</td>\n",
       "      <td>1</td>\n",
       "      <td>2016-05-11 23:11:33</td>\n",
       "      <td>2016-05-11 23:29:13</td>\n",
       "      <td>1</td>\n",
       "      <td>-73.968430</td>\n",
       "      <td>40.762001</td>\n",
       "      <td>-74.003784</td>\n",
       "      <td>40.753307</td>\n",
       "      <td>N</td>\n",
       "      <td>1060</td>\n",
       "    </tr>\n",
       "    <tr>\n",
       "      <th>370973</th>\n",
       "      <td>id1027932</td>\n",
       "      <td>1</td>\n",
       "      <td>2016-04-17 00:57:58</td>\n",
       "      <td>2016-04-17 01:12:01</td>\n",
       "      <td>1</td>\n",
       "      <td>-73.977829</td>\n",
       "      <td>40.789009</td>\n",
       "      <td>-74.003090</td>\n",
       "      <td>40.750546</td>\n",
       "      <td>N</td>\n",
       "      <td>843</td>\n",
       "    </tr>\n",
       "    <tr>\n",
       "      <th>864692</th>\n",
       "      <td>id2666053</td>\n",
       "      <td>1</td>\n",
       "      <td>2016-03-06 11:35:07</td>\n",
       "      <td>2016-03-06 12:05:33</td>\n",
       "      <td>1</td>\n",
       "      <td>-73.988312</td>\n",
       "      <td>40.746147</td>\n",
       "      <td>-73.941902</td>\n",
       "      <td>40.714355</td>\n",
       "      <td>N</td>\n",
       "      <td>1826</td>\n",
       "    </tr>\n",
       "    <tr>\n",
       "      <th>823247</th>\n",
       "      <td>id1030699</td>\n",
       "      <td>1</td>\n",
       "      <td>2016-05-24 07:48:18</td>\n",
       "      <td>2016-05-24 07:54:34</td>\n",
       "      <td>1</td>\n",
       "      <td>-73.987839</td>\n",
       "      <td>40.760719</td>\n",
       "      <td>-73.988983</td>\n",
       "      <td>40.753605</td>\n",
       "      <td>N</td>\n",
       "      <td>376</td>\n",
       "    </tr>\n",
       "  </tbody>\n",
       "</table>\n",
       "</div>"
      ],
      "text/plain": [
       "                id  vendor_id      pickup_datetime     dropoff_datetime  \\\n",
       "1052495  id0514403          1  2016-04-12 22:53:33  2016-04-12 22:58:25   \n",
       "200072   id2095083          1  2016-02-25 12:50:38  2016-02-25 12:53:37   \n",
       "1344869  id1480492          2  2016-02-17 10:49:25  2016-02-17 10:56:55   \n",
       "160357   id2729577          2  2016-03-22 17:10:27  2016-03-22 17:26:57   \n",
       "866634   id2943767          1  2016-03-30 17:37:28  2016-03-30 18:39:03   \n",
       "823177   id2563839          1  2016-01-03 17:34:19  2016-01-03 17:40:31   \n",
       "176319   id0668739          1  2016-05-11 23:11:33  2016-05-11 23:29:13   \n",
       "370973   id1027932          1  2016-04-17 00:57:58  2016-04-17 01:12:01   \n",
       "864692   id2666053          1  2016-03-06 11:35:07  2016-03-06 12:05:33   \n",
       "823247   id1030699          1  2016-05-24 07:48:18  2016-05-24 07:54:34   \n",
       "\n",
       "         passenger_count  pickup_longitude  pickup_latitude  \\\n",
       "1052495                1        -73.984894        40.744171   \n",
       "200072                 1        -73.969398        40.798367   \n",
       "1344869                1        -73.988144        40.735374   \n",
       "160357                 1        -73.989189        40.718971   \n",
       "866634                 2        -73.781921        40.644596   \n",
       "823177                 2        -73.954575        40.777920   \n",
       "176319                 1        -73.968430        40.762001   \n",
       "370973                 1        -73.977829        40.789009   \n",
       "864692                 1        -73.988312        40.746147   \n",
       "823247                 1        -73.987839        40.760719   \n",
       "\n",
       "         dropoff_longitude  dropoff_latitude store_and_fwd_flag  trip_duration  \n",
       "1052495         -73.985802         40.750736                  N            292  \n",
       "200072          -73.971718         40.795002                  N            179  \n",
       "1344869         -73.978333         40.745483                  N            450  \n",
       "160357          -74.009666         40.720814                  N            990  \n",
       "866634          -73.901199         40.850624                  N           3695  \n",
       "823177          -73.948509         40.774117                  N            372  \n",
       "176319          -74.003784         40.753307                  N           1060  \n",
       "370973          -74.003090         40.750546                  N            843  \n",
       "864692          -73.941902         40.714355                  N           1826  \n",
       "823247          -73.988983         40.753605                  N            376  "
      ]
     },
     "execution_count": 5,
     "metadata": {},
     "output_type": "execute_result"
    }
   ],
   "source": [
    "# read train.csv\n",
    "train_df = pd.read_csv(\"dataset/train.csv\")\n",
    "train_df.sample(10)"
   ]
  },
  {
   "cell_type": "code",
   "execution_count": 6,
   "metadata": {},
   "outputs": [
    {
     "data": {
      "text/plain": [
       "id                     object\n",
       "vendor_id               int64\n",
       "pickup_datetime        object\n",
       "dropoff_datetime       object\n",
       "passenger_count         int64\n",
       "pickup_longitude      float64\n",
       "pickup_latitude       float64\n",
       "dropoff_longitude     float64\n",
       "dropoff_latitude      float64\n",
       "store_and_fwd_flag     object\n",
       "trip_duration           int64\n",
       "dtype: object"
      ]
     },
     "execution_count": 6,
     "metadata": {},
     "output_type": "execute_result"
    }
   ],
   "source": [
    "# explore train.csv\n",
    "train_df.dtypes"
   ]
  },
  {
   "attachments": {},
   "cell_type": "markdown",
   "metadata": {},
   "source": [
    "# preprocessing data"
   ]
  },
  {
   "cell_type": "code",
   "execution_count": 7,
   "metadata": {},
   "outputs": [],
   "source": [
    "def preprocessing(data_df):\n",
    "    # remove any rows with missing data\n",
    "    data_df = data_df.dropna()\n",
    "\n",
    "    # convert pickup and dropoff datetime to datetime format\n",
    "    data_df['pickup_datetime'] = pd.to_datetime(data_df['pickup_datetime'])\n",
    "    data_df['dropoff_datetime'] = pd.to_datetime(data_df['dropoff_datetime'])\n",
    "\n",
    "    # split datetime into month, day, week and hour\n",
    "    data_df['day'] = data_df['pickup_datetime'].dt.day\n",
    "    data_df['hour'] = data_df['pickup_datetime'].dt.hour\n",
    "    data_df['month'] = data_df['pickup_datetime'].dt.month\n",
    "    data_df['week'] = data_df['pickup_datetime'].dt.dayofweek\n",
    "    return data_df\n"
   ]
  },
  {
   "cell_type": "code",
   "execution_count": 8,
   "metadata": {},
   "outputs": [
    {
     "data": {
      "text/html": [
       "<div>\n",
       "<style scoped>\n",
       "    .dataframe tbody tr th:only-of-type {\n",
       "        vertical-align: middle;\n",
       "    }\n",
       "\n",
       "    .dataframe tbody tr th {\n",
       "        vertical-align: top;\n",
       "    }\n",
       "\n",
       "    .dataframe thead th {\n",
       "        text-align: right;\n",
       "    }\n",
       "</style>\n",
       "<table border=\"1\" class=\"dataframe\">\n",
       "  <thead>\n",
       "    <tr style=\"text-align: right;\">\n",
       "      <th></th>\n",
       "      <th>id</th>\n",
       "      <th>vendor_id</th>\n",
       "      <th>pickup_datetime</th>\n",
       "      <th>dropoff_datetime</th>\n",
       "      <th>passenger_count</th>\n",
       "      <th>pickup_longitude</th>\n",
       "      <th>pickup_latitude</th>\n",
       "      <th>dropoff_longitude</th>\n",
       "      <th>dropoff_latitude</th>\n",
       "      <th>store_and_fwd_flag</th>\n",
       "      <th>trip_duration</th>\n",
       "      <th>day</th>\n",
       "      <th>hour</th>\n",
       "      <th>month</th>\n",
       "      <th>week</th>\n",
       "    </tr>\n",
       "  </thead>\n",
       "  <tbody>\n",
       "    <tr>\n",
       "      <th>646896</th>\n",
       "      <td>id2422521</td>\n",
       "      <td>2</td>\n",
       "      <td>2016-01-30 17:08:11</td>\n",
       "      <td>2016-01-30 17:11:39</td>\n",
       "      <td>1</td>\n",
       "      <td>-73.950058</td>\n",
       "      <td>40.776009</td>\n",
       "      <td>-73.954788</td>\n",
       "      <td>40.777229</td>\n",
       "      <td>N</td>\n",
       "      <td>208</td>\n",
       "      <td>30</td>\n",
       "      <td>17</td>\n",
       "      <td>1</td>\n",
       "      <td>5</td>\n",
       "    </tr>\n",
       "    <tr>\n",
       "      <th>946283</th>\n",
       "      <td>id1643442</td>\n",
       "      <td>1</td>\n",
       "      <td>2016-02-06 11:30:41</td>\n",
       "      <td>2016-02-06 11:43:40</td>\n",
       "      <td>1</td>\n",
       "      <td>-73.992630</td>\n",
       "      <td>40.737206</td>\n",
       "      <td>-74.014305</td>\n",
       "      <td>40.715439</td>\n",
       "      <td>N</td>\n",
       "      <td>779</td>\n",
       "      <td>6</td>\n",
       "      <td>11</td>\n",
       "      <td>2</td>\n",
       "      <td>5</td>\n",
       "    </tr>\n",
       "    <tr>\n",
       "      <th>874452</th>\n",
       "      <td>id3186968</td>\n",
       "      <td>1</td>\n",
       "      <td>2016-03-06 05:03:37</td>\n",
       "      <td>2016-03-06 05:20:10</td>\n",
       "      <td>3</td>\n",
       "      <td>-73.991570</td>\n",
       "      <td>40.764893</td>\n",
       "      <td>-73.940224</td>\n",
       "      <td>40.835178</td>\n",
       "      <td>N</td>\n",
       "      <td>993</td>\n",
       "      <td>6</td>\n",
       "      <td>5</td>\n",
       "      <td>3</td>\n",
       "      <td>6</td>\n",
       "    </tr>\n",
       "    <tr>\n",
       "      <th>1053399</th>\n",
       "      <td>id3823464</td>\n",
       "      <td>1</td>\n",
       "      <td>2016-03-14 14:08:57</td>\n",
       "      <td>2016-03-14 14:17:33</td>\n",
       "      <td>3</td>\n",
       "      <td>-73.955490</td>\n",
       "      <td>40.788277</td>\n",
       "      <td>-73.955605</td>\n",
       "      <td>40.781460</td>\n",
       "      <td>N</td>\n",
       "      <td>516</td>\n",
       "      <td>14</td>\n",
       "      <td>14</td>\n",
       "      <td>3</td>\n",
       "      <td>0</td>\n",
       "    </tr>\n",
       "    <tr>\n",
       "      <th>417440</th>\n",
       "      <td>id1793097</td>\n",
       "      <td>2</td>\n",
       "      <td>2016-04-24 16:51:06</td>\n",
       "      <td>2016-04-24 17:11:01</td>\n",
       "      <td>1</td>\n",
       "      <td>-73.994453</td>\n",
       "      <td>40.750710</td>\n",
       "      <td>-73.960518</td>\n",
       "      <td>40.781528</td>\n",
       "      <td>N</td>\n",
       "      <td>1195</td>\n",
       "      <td>24</td>\n",
       "      <td>16</td>\n",
       "      <td>4</td>\n",
       "      <td>6</td>\n",
       "    </tr>\n",
       "    <tr>\n",
       "      <th>1309200</th>\n",
       "      <td>id2105738</td>\n",
       "      <td>1</td>\n",
       "      <td>2016-03-06 19:23:33</td>\n",
       "      <td>2016-03-06 19:28:03</td>\n",
       "      <td>1</td>\n",
       "      <td>-73.972610</td>\n",
       "      <td>40.757881</td>\n",
       "      <td>-73.972916</td>\n",
       "      <td>40.749233</td>\n",
       "      <td>N</td>\n",
       "      <td>270</td>\n",
       "      <td>6</td>\n",
       "      <td>19</td>\n",
       "      <td>3</td>\n",
       "      <td>6</td>\n",
       "    </tr>\n",
       "    <tr>\n",
       "      <th>1030056</th>\n",
       "      <td>id0819365</td>\n",
       "      <td>2</td>\n",
       "      <td>2016-06-01 07:22:40</td>\n",
       "      <td>2016-06-01 07:37:37</td>\n",
       "      <td>1</td>\n",
       "      <td>-73.969902</td>\n",
       "      <td>40.759689</td>\n",
       "      <td>-73.989594</td>\n",
       "      <td>40.756649</td>\n",
       "      <td>N</td>\n",
       "      <td>897</td>\n",
       "      <td>1</td>\n",
       "      <td>7</td>\n",
       "      <td>6</td>\n",
       "      <td>2</td>\n",
       "    </tr>\n",
       "    <tr>\n",
       "      <th>96242</th>\n",
       "      <td>id2344694</td>\n",
       "      <td>1</td>\n",
       "      <td>2016-03-19 21:24:33</td>\n",
       "      <td>2016-03-19 21:38:30</td>\n",
       "      <td>2</td>\n",
       "      <td>-74.005371</td>\n",
       "      <td>40.741829</td>\n",
       "      <td>-74.000153</td>\n",
       "      <td>40.730347</td>\n",
       "      <td>N</td>\n",
       "      <td>837</td>\n",
       "      <td>19</td>\n",
       "      <td>21</td>\n",
       "      <td>3</td>\n",
       "      <td>5</td>\n",
       "    </tr>\n",
       "    <tr>\n",
       "      <th>1209299</th>\n",
       "      <td>id3840793</td>\n",
       "      <td>2</td>\n",
       "      <td>2016-01-08 14:54:15</td>\n",
       "      <td>2016-01-08 15:01:31</td>\n",
       "      <td>2</td>\n",
       "      <td>-73.983269</td>\n",
       "      <td>40.760735</td>\n",
       "      <td>-73.989845</td>\n",
       "      <td>40.756683</td>\n",
       "      <td>N</td>\n",
       "      <td>436</td>\n",
       "      <td>8</td>\n",
       "      <td>14</td>\n",
       "      <td>1</td>\n",
       "      <td>4</td>\n",
       "    </tr>\n",
       "    <tr>\n",
       "      <th>531977</th>\n",
       "      <td>id3054299</td>\n",
       "      <td>2</td>\n",
       "      <td>2016-04-09 00:20:02</td>\n",
       "      <td>2016-04-09 00:34:11</td>\n",
       "      <td>1</td>\n",
       "      <td>-74.008179</td>\n",
       "      <td>40.738029</td>\n",
       "      <td>-73.985321</td>\n",
       "      <td>40.763432</td>\n",
       "      <td>N</td>\n",
       "      <td>849</td>\n",
       "      <td>9</td>\n",
       "      <td>0</td>\n",
       "      <td>4</td>\n",
       "      <td>5</td>\n",
       "    </tr>\n",
       "  </tbody>\n",
       "</table>\n",
       "</div>"
      ],
      "text/plain": [
       "                id  vendor_id     pickup_datetime    dropoff_datetime  \\\n",
       "646896   id2422521          2 2016-01-30 17:08:11 2016-01-30 17:11:39   \n",
       "946283   id1643442          1 2016-02-06 11:30:41 2016-02-06 11:43:40   \n",
       "874452   id3186968          1 2016-03-06 05:03:37 2016-03-06 05:20:10   \n",
       "1053399  id3823464          1 2016-03-14 14:08:57 2016-03-14 14:17:33   \n",
       "417440   id1793097          2 2016-04-24 16:51:06 2016-04-24 17:11:01   \n",
       "1309200  id2105738          1 2016-03-06 19:23:33 2016-03-06 19:28:03   \n",
       "1030056  id0819365          2 2016-06-01 07:22:40 2016-06-01 07:37:37   \n",
       "96242    id2344694          1 2016-03-19 21:24:33 2016-03-19 21:38:30   \n",
       "1209299  id3840793          2 2016-01-08 14:54:15 2016-01-08 15:01:31   \n",
       "531977   id3054299          2 2016-04-09 00:20:02 2016-04-09 00:34:11   \n",
       "\n",
       "         passenger_count  pickup_longitude  pickup_latitude  \\\n",
       "646896                 1        -73.950058        40.776009   \n",
       "946283                 1        -73.992630        40.737206   \n",
       "874452                 3        -73.991570        40.764893   \n",
       "1053399                3        -73.955490        40.788277   \n",
       "417440                 1        -73.994453        40.750710   \n",
       "1309200                1        -73.972610        40.757881   \n",
       "1030056                1        -73.969902        40.759689   \n",
       "96242                  2        -74.005371        40.741829   \n",
       "1209299                2        -73.983269        40.760735   \n",
       "531977                 1        -74.008179        40.738029   \n",
       "\n",
       "         dropoff_longitude  dropoff_latitude store_and_fwd_flag  \\\n",
       "646896          -73.954788         40.777229                  N   \n",
       "946283          -74.014305         40.715439                  N   \n",
       "874452          -73.940224         40.835178                  N   \n",
       "1053399         -73.955605         40.781460                  N   \n",
       "417440          -73.960518         40.781528                  N   \n",
       "1309200         -73.972916         40.749233                  N   \n",
       "1030056         -73.989594         40.756649                  N   \n",
       "96242           -74.000153         40.730347                  N   \n",
       "1209299         -73.989845         40.756683                  N   \n",
       "531977          -73.985321         40.763432                  N   \n",
       "\n",
       "         trip_duration  day  hour  month  week  \n",
       "646896             208   30    17      1     5  \n",
       "946283             779    6    11      2     5  \n",
       "874452             993    6     5      3     6  \n",
       "1053399            516   14    14      3     0  \n",
       "417440            1195   24    16      4     6  \n",
       "1309200            270    6    19      3     6  \n",
       "1030056            897    1     7      6     2  \n",
       "96242              837   19    21      3     5  \n",
       "1209299            436    8    14      1     4  \n",
       "531977             849    9     0      4     5  "
      ]
     },
     "execution_count": 8,
     "metadata": {},
     "output_type": "execute_result"
    }
   ],
   "source": [
    "train_df = preprocessing(train_df)\n",
    "train_df.sample(10)"
   ]
  },
  {
   "attachments": {},
   "cell_type": "markdown",
   "metadata": {},
   "source": [
    "# data Analysis & visualization "
   ]
  },
  {
   "cell_type": "code",
   "execution_count": 32,
   "metadata": {},
   "outputs": [],
   "source": [
    "\n",
    "\n",
    "def categorical_histogram(data, column):\n",
    "    categories = data[column].unique()\n",
    "    num_categories = len(categories)\n",
    "    colors = plt.cm.tab10(np.linspace(0, 1, num_categories))\n",
    "    \n",
    "    plt.figure(figsize=(10, 6))\n",
    "    data[column].value_counts().plot(kind='bar', color=colors)\n",
    "    plt.xlabel(column)\n",
    "    plt.ylabel('Count')\n",
    "    plt.title('Histogram of '+column)\n",
    "    plt.show()\n",
    "\n",
    "\n",
    "\n",
    "def numerical_histogram(data, column):\n",
    "    fig, axs = plt.subplots(1, 1, figsize=(16, 4))\n",
    "    # the x axis should be not be in float format\n",
    "    axs.xaxis.set_major_locator(MaxNLocator(integer=True))\n",
    "    # split the histogram into 100 bins\n",
    "    axs.hist(data[column], bins=100)\n",
    "\n",
    "    \n",
    "    axs.set_title('Histogram of '+column)\n",
    "    axs.set_xlabel(column)\n",
    "    axs.set_ylabel('Count')\n",
    "    plt.show()\n",
    "    \n",
    "def numerical_histogram_columns(data, columns):\n",
    "    fig, axs = plt.subplots(1, len(columns), figsize=(16, 4))\n",
    "    for i in range(len(columns)):\n",
    "        # split the histogram into 100 bins\n",
    "        axs[i].hist(data[columns[i]], bins=100)\n",
    "        #axs[i].hist(data[columns[i]])\n",
    "        axs[i].set_title('Histogram of '+columns[i])\n",
    "        axs[i].set_xlabel(columns[i])\n",
    "        axs[i].set_ylabel('Count')\n",
    "    plt.show()\n"
   ]
  },
  {
   "attachments": {},
   "cell_type": "markdown",
   "metadata": {},
   "source": [
    "## vendor_id"
   ]
  },
  {
   "cell_type": "code",
   "execution_count": 10,
   "metadata": {},
   "outputs": [
    {
     "data": {
      "image/png": "[encoded data removed]",
      "text/plain": [
       "<Figure size 720x432 with 1 Axes>"
      ]
     },
     "metadata": {
      "needs_background": "light"
     },
     "output_type": "display_data"
    }
   ],
   "source": [
    "# plot histogram of vendor_id\n",
    "categorical_histogram(train_df, \"vendor_id\")"
   ]
  },
  {
   "attachments": {},
   "cell_type": "markdown",
   "metadata": {},
   "source": [
    "* there are only two vendor_id in the data set, 1 and 2\n",
    "* vendor_id 2 has more trips than vendor_id 1"
   ]
  },
  {
   "attachments": {},
   "cell_type": "markdown",
   "metadata": {},
   "source": [
    "## passenger_count"
   ]
  },
  {
   "cell_type": "code",
   "execution_count": 11,
   "metadata": {},
   "outputs": [
    {
     "data": {
      "image/png": "[encoded data removed]",
      "text/plain": [
       "<Figure size 720x432 with 1 Axes>"
      ]
     },
     "metadata": {
      "needs_background": "light"
     },
     "output_type": "display_data"
    }
   ],
   "source": [
    "categorical_histogram(train_df, \"passenger_count\")"
   ]
  },
  {
   "attachments": {},
   "cell_type": "markdown",
   "metadata": {},
   "source": [
    "* Most of the trips have 1 or 2 passengers"
   ]
  },
  {
   "attachments": {},
   "cell_type": "markdown",
   "metadata": {},
   "source": [
    "## pickup day and pickup month"
   ]
  },
  {
   "cell_type": "code",
   "execution_count": 12,
   "metadata": {},
   "outputs": [
    {
     "data": {
      "image/png": "[encoded data removed]",
      "text/plain": [
       "<Figure size 720x432 with 1 Axes>"
      ]
     },
     "metadata": {
      "needs_background": "light"
     },
     "output_type": "display_data"
    }
   ],
   "source": [
    "categorical_histogram(train_df, \"day\")"
   ]
  },
  {
   "cell_type": "code",
   "execution_count": 13,
   "metadata": {},
   "outputs": [
    {
     "data": {
      "image/png": "[encoded data removed]",
      "text/plain": [
       "<Figure size 720x432 with 1 Axes>"
      ]
     },
     "metadata": {
      "needs_background": "light"
     },
     "output_type": "display_data"
    }
   ],
   "source": [
    "categorical_histogram(train_df, \"month\")"
   ]
  },
  {
   "attachments": {},
   "cell_type": "markdown",
   "metadata": {},
   "source": [
    "## pickup hour"
   ]
  },
  {
   "cell_type": "code",
   "execution_count": 14,
   "metadata": {},
   "outputs": [
    {
     "data": {
      "image/png": "[encoded data removed]",
      "text/plain": [
       "<Figure size 720x432 with 1 Axes>"
      ]
     },
     "metadata": {
      "needs_background": "light"
     },
     "output_type": "display_data"
    }
   ],
   "source": [
    "categorical_histogram(train_df, \"hour\")"
   ]
  },
  {
   "attachments": {},
   "cell_type": "markdown",
   "metadata": {},
   "source": [
    "* most hours of the day are 6,7 PM"
   ]
  },
  {
   "attachments": {},
   "cell_type": "markdown",
   "metadata": {},
   "source": [
    "## store_and_fwd_flag"
   ]
  },
  {
   "cell_type": "code",
   "execution_count": 15,
   "metadata": {},
   "outputs": [
    {
     "data": {
      "image/png": "[encoded data removed]",
      "text/plain": [
       "<Figure size 720x432 with 1 Axes>"
      ]
     },
     "metadata": {
      "needs_background": "light"
     },
     "output_type": "display_data"
    },
    {
     "data": {
      "text/plain": [
       "N    1450599\n",
       "Y       8045\n",
       "Name: store_and_fwd_flag, dtype: int64"
      ]
     },
     "execution_count": 15,
     "metadata": {},
     "output_type": "execute_result"
    }
   ],
   "source": [
    "categorical_histogram(train_df, \"store_and_fwd_flag\")\n",
    "train_df['store_and_fwd_flag'].value_counts()"
   ]
  },
  {
   "attachments": {},
   "cell_type": "markdown",
   "metadata": {},
   "source": [
    "* most of the trips are not stored and forwarded In other words, there was a direct connection between the vehicle and the server, allowing the trip data to be sent without the need for temporary storage."
   ]
  },
  {
   "attachments": {},
   "cell_type": "markdown",
   "metadata": {},
   "source": [
    "## trip_duration"
   ]
  },
  {
   "cell_type": "code",
   "execution_count": 34,
   "metadata": {},
   "outputs": [
    {
     "data": {
      "image/png": "[encoded data removed]",
      "text/plain": [
       "<Figure size 1152x288 with 1 Axes>"
      ]
     },
     "metadata": {
      "needs_background": "light"
     },
     "output_type": "display_data"
    },
    {
     "data": {
      "text/plain": [
       "count    1458644.00\n",
       "mean           0.27\n",
       "std            1.45\n",
       "min            0.00\n",
       "25%            0.11\n",
       "50%            0.18\n",
       "75%            0.30\n",
       "max          979.52\n",
       "Name: trip_duration_hours, dtype: object"
      ]
     },
     "execution_count": 34,
     "metadata": {},
     "output_type": "execute_result"
    }
   ],
   "source": [
    "numerical_histogram(train_df, \"trip_duration\")\n",
    "## train_df['trip_duration'].describe() but make float point to .2f and divide by 3600 to get hours\n",
    "train_df['trip_duration_hours'] = train_df['trip_duration']/3600\n",
    "train_df['trip_duration_hours'].describe().apply(lambda x: format(x, '.2f'))\n"
   ]
  },
  {
   "attachments": {},
   "cell_type": "markdown",
   "metadata": {},
   "source": [
    "## latitude and longitude"
   ]
  },
  {
   "cell_type": "code",
   "execution_count": 23,
   "metadata": {},
   "outputs": [
    {
     "data": {
      "image/png": "[encoded data removed]",
      "text/plain": [
       "<Figure size 1152x288 with 4 Axes>"
      ]
     },
     "metadata": {
      "needs_background": "light"
     },
     "output_type": "display_data"
    }
   ],
   "source": [
    "numerical_histogram_columns(train_df, [\"pickup_longitude\", \"pickup_latitude\", \"dropoff_longitude\", \"dropoff_latitude\"])"
   ]
  },
  {
   "attachments": {},
   "cell_type": "markdown",
   "metadata": {},
   "source": [
    "## correlation between trip_duration and other features"
   ]
  },
  {
   "cell_type": "code",
   "execution_count": 17,
   "metadata": {},
   "outputs": [],
   "source": [
    "def plotCorrelation(train_df,col1,col2):\n",
    "    plt.figure(figsize=(10, 6))\n",
    "    plt.scatter(train_df[col1], train_df[col2])\n",
    "    plt.xlabel(col1)\n",
    "    plt.ylabel(col2)\n",
    "    plt.title('Scatter plot of '+col1+' vs '+col2)\n",
    "    plt.show()"
   ]
  },
  {
   "cell_type": "code",
   "execution_count": 18,
   "metadata": {},
   "outputs": [
    {
     "name": "stderr",
     "output_type": "stream",
     "text": [
      "C:\\Users\\Lenovo\\AppData\\Local\\Temp/ipykernel_11052/3367316845.py:2: FutureWarning: The default value of numeric_only in DataFrame.corr is deprecated. In a future version, it will default to False. Select only valid columns or specify the value of numeric_only to silence this warning.\n",
      "  corr_matrix = train_df.corr()\n"
     ]
    },
    {
     "data": {
      "text/plain": [
       "trip_duration        1.000000\n",
       "pickup_longitude     0.026542\n",
       "vendor_id            0.020304\n",
       "dropoff_longitude    0.014678\n",
       "passenger_count      0.008471\n",
       "month                0.006607\n",
       "hour                 0.003690\n",
       "day                  0.000566\n",
       "week                -0.000708\n",
       "dropoff_latitude    -0.020677\n",
       "pickup_latitude     -0.029204\n",
       "Name: trip_duration, dtype: float64"
      ]
     },
     "execution_count": 18,
     "metadata": {},
     "output_type": "execute_result"
    }
   ],
   "source": [
    "# correlation matrix\n",
    "corr_matrix = train_df.corr()\n",
    "corr_matrix[\"trip_duration\"].sort_values(ascending=False)"
   ]
  },
  {
   "cell_type": "code",
   "execution_count": 19,
   "metadata": {},
   "outputs": [
    {
     "data": {
      "image/png": "[encoded data removed]",
      "text/plain": [
       "<Figure size 1080x1080 with 2 Axes>"
      ]
     },
     "metadata": {
      "needs_background": "light"
     },
     "output_type": "display_data"
    }
   ],
   "source": [
    "import seaborn as sns\n",
    "plt.figure(figsize=(15, 15))\n",
    "sns.heatmap(np.abs(np.round(corr_matrix, 2)), square=True, annot=True, cmap=plt.cm.Blues)\n",
    "plt.show()"
   ]
  },
  {
   "attachments": {},
   "cell_type": "markdown",
   "metadata": {},
   "source": [
    "## plot the relationship between passenger_count and vendor_id"
   ]
  },
  {
   "cell_type": "code",
   "execution_count": 29,
   "metadata": {},
   "outputs": [
    {
     "data": {
      "image/png": "[encoded data removed]",
      "text/plain": [
       "<Figure size 720x432 with 1 Axes>"
      ]
     },
     "metadata": {
      "needs_background": "light"
     },
     "output_type": "display_data"
    }
   ],
   "source": [
    "## plot the relationship between passenger_count and vendor_id\n",
    "train_df.groupby(['passenger_count', 'vendor_id']).size().unstack().plot(kind='bar', stacked=True, figsize=(10, 6))\n",
    "plt.xlabel('passenger_count')\n",
    "plt.ylabel('Count')\n",
    "plt.title('Histogram of passenger_count vs vendor_id')\n",
    "plt.show()\n"
   ]
  }
 ],
 "metadata": {
  "kernelspec": {
   "display_name": "Python 3",
   "language": "python",
   "name": "python3"
  },
  "language_info": {
   "codemirror_mode": {
    "name": "ipython",
    "version": 3
   },
   "file_extension": ".py",
   "mimetype": "text/x-python",
   "name": "python",
   "nbconvert_exporter": "python",
   "pygments_lexer": "ipython3",
   "version": "3.8.3"
  },
  "orig_nbformat": 4
 },
 "nbformat": 4,
 "nbformat_minor": 2
}
